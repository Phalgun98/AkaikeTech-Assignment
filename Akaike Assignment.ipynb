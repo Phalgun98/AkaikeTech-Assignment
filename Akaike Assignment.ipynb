{
 "cells": [
  {
   "cell_type": "markdown",
   "metadata": {},
   "source": [
    "## Akaike Internship Assignment - Phalgun Natarajan\n"
   ]
  },
  {
   "cell_type": "markdown",
   "metadata": {},
   "source": [
    "#### Importing the addresses of all the numpy files\n",
    "\n",
    "We have 98 files"
   ]
  },
  {
   "cell_type": "code",
   "execution_count": 1,
   "metadata": {},
   "outputs": [
    {
     "data": {
      "text/plain": [
       "98"
      ]
     },
     "execution_count": 1,
     "metadata": {},
     "output_type": "execute_result"
    }
   ],
   "source": [
    "import glob, os\n",
    "import math\n",
    "import numpy as np\n",
    "import statistics as stat\n",
    "from PIL import Image\n",
    "import pandas as pd\n",
    "path = r\"c:\\Users\\Phalgun\\Desktop\\Data_Analytics\\regions\"\n",
    "os.chdir(path)\n",
    "files=[]\n",
    "for file in glob.glob(\"*.npy\"):\n",
    "    files.append(file)\n",
    "    \n",
    "len(files)"
   ]
  },
  {
   "cell_type": "markdown",
   "metadata": {},
   "source": [
    "This allows us to open and view an image"
   ]
  },
  {
   "cell_type": "code",
   "execution_count": 2,
   "metadata": {},
   "outputs": [],
   "source": [
    "img = np.load(files[0])\n",
    "img_rgb = Image.fromarray(np.uint8(img[:,:,:3], mode='RGB'))\n",
    "img_rgb.show()"
   ]
  },
  {
   "cell_type": "markdown",
   "metadata": {},
   "source": [
    "# Algo to fix parameters for every image\n",
    "### Finding the average Greyscale value of every image to correlate it. Used Luminosity algorithm.\n",
    "\n",
    "The 2 parameters used to characterize every image is :\n",
    "- Greyscale (Luminosity) : This is a function of the RGB values. Luminosity = 0.2126*R + 0.7152*G + 0.0722*B\n",
    "- Calculate the difference in the Max and min elevation in a picture. This is the differentiating factor between a roof and road. the comparison of differences of height is done, as we cannot directly compare the mean sea levels f 2 different places.\n",
    "\n",
    "A provision has been made to ignore all empty pixels\n",
    "\n",
    "The list 'parameters' is a list of the greyscale and Elevation difference values"
   ]
  },
  {
   "cell_type": "code",
   "execution_count": 3,
   "metadata": {},
   "outputs": [
    {
     "name": "stdout",
     "output_type": "stream",
     "text": [
      "5 out of 98 done, please wait\n",
      "10 out of 98 done, please wait\n",
      "15 out of 98 done, please wait\n",
      "20 out of 98 done, please wait\n",
      "25 out of 98 done, please wait\n",
      "30 out of 98 done, please wait\n",
      "35 out of 98 done, please wait\n",
      "40 out of 98 done, please wait\n",
      "45 out of 98 done, please wait\n",
      "50 out of 98 done, please wait\n",
      "55 out of 98 done, please wait\n"
     ]
    },
    {
     "name": "stderr",
     "output_type": "stream",
     "text": [
      "C:\\Users\\Phalgun\\Anaconda3\\lib\\site-packages\\ipykernel_launcher.py:28: RuntimeWarning: divide by zero encountered in double_scalars\n"
     ]
    },
    {
     "name": "stdout",
     "output_type": "stream",
     "text": [
      "60 out of 98 done, please wait\n",
      "65 out of 98 done, please wait\n",
      "70 out of 98 done, please wait\n",
      "75 out of 98 done, please wait\n",
      "80 out of 98 done, please wait\n",
      "85 out of 98 done, please wait\n",
      "90 out of 98 done, please wait\n",
      "95 out of 98 done, please wait\n"
     ]
    }
   ],
   "source": [
    "parameters =[]\n",
    "readings = 0\n",
    "\n",
    "for img_no in range (len(files)):\n",
    "    img = np.load(files[img_no])\n",
    "    img_rgb = Image.fromarray(np.uint8(img[:,:,:3], mode='RGB'))\n",
    "    x = img.shape[0]\n",
    "    y = img.shape[1]\n",
    "    total_lum = 0\n",
    "    elv= []\n",
    "    count = 0\n",
    "    for i in range (x):\n",
    "        for j in range(y):\n",
    "            R = img[i][j][0]\n",
    "            G = img[i][j][1]\n",
    "            B = img[i][j][2]\n",
    "            E = img[i][j][3]\n",
    "            a = math.isnan(R)\n",
    "            if (a ==False):\n",
    "                lum = 0.2126*R + 0.7152*G + 0.0722*B\n",
    "                total_lum = total_lum + lum\n",
    "                elv.append(E)\n",
    "                count = count+1\n",
    "    greyscale = total_lum/count\n",
    "    elv.sort()\n",
    "    x= 0.2*count\n",
    "    x=int(x)\n",
    "    elv_diff = (sum(elv[-x:])-sum(elv[0:x]))/x\n",
    "    parameters.append((greyscale,elv_diff)) \n",
    "    readings = readings + 1\n",
    "    if (readings%5 == 0):\n",
    "        print (readings, \"out of 98 done, please wait\")"
   ]
  },
  {
   "cell_type": "markdown",
   "metadata": {},
   "source": [
    "There seemed to be an error with the 58th image, and it was unable to load on my machine. Hence I have deleted to avoid error in our calculations"
   ]
  },
  {
   "cell_type": "code",
   "execution_count": 4,
   "metadata": {},
   "outputs": [
    {
     "data": {
      "text/plain": [
       "98"
      ]
     },
     "execution_count": 4,
     "metadata": {},
     "output_type": "execute_result"
    }
   ],
   "source": [
    "len(parameters)"
   ]
  },
  {
   "cell_type": "code",
   "execution_count": 5,
   "metadata": {},
   "outputs": [
    {
     "data": {
      "text/plain": [
       "[(165.26458305651403, 3.395170514611968),\n",
       " (91.36762059531874, 1.1443404910638804),\n",
       " (127.14779055645721, 1.0888708783693963),\n",
       " (143.14585482825547, 0.6192993699064238),\n",
       " (183.8206201038381, 1.1585886720207854),\n",
       " (150.418233967963, 0.2205700268508607),\n",
       " (104.92003499753862, 3.1127172082237045),\n",
       " (197.83978728313707, 7.62890773141051),\n",
       " (74.76653539249413, 2.2338088555734794),\n",
       " (193.27889376496717, 0.8007829439823497),\n",
       " (60.42607237974772, 14.841494543908341),\n",
       " (168.06342425929313, 1.330975237858703),\n",
       " (132.71227183160266, 1.9817421673334132),\n",
       " (169.1231012966855, 9.740618818624775),\n",
       " (202.98156503007337, 9.141698936547082),\n",
       " (214.39976091580144, 12.69841692456188),\n",
       " (63.4141049318102, 22.236498738201117),\n",
       " (188.68639021125807, 16.556975897841568),\n",
       " (171.5317235218122, 1.6572770723001422),\n",
       " (121.72112138148704, 2.7040068462417577),\n",
       " (111.73875735348811, 3.2470662283631504),\n",
       " (145.3488743643711, 0.9534209292141073),\n",
       " (92.84586312601927, 6.464253200759282),\n",
       " (76.26191108202298, 24.055770987442514),\n",
       " (169.6547061406522, 21.072883828426512),\n",
       " (173.83587939252135, 27.119490589096007),\n",
       " (120.41483237564684, 1.679086516175089),\n",
       " (82.12570549119476, 0.8104675239115506),\n",
       " (158.45196011144733, 38.350452645737136),\n",
       " (111.9385589154706, 23.40484593077354),\n",
       " (93.65424506971245, 23.229957628634388),\n",
       " (216.34707236621665, 7.2146116732980055),\n",
       " (100.90259933095217, 8.528666358542006),\n",
       " (94.8694183825176, 22.60133348649734),\n",
       " (148.5293051773558, 7.430351394688899),\n",
       " (99.98933114668532, 21.033458876598342),\n",
       " (83.64928496659213, 17.517229896380975),\n",
       " (107.87222283970792, 4.929464799058828),\n",
       " (74.4354084234619, 10.029797430459332),\n",
       " (176.728868445764, 24.704150511280726),\n",
       " (65.17586425976519, 17.2113509429016),\n",
       " (92.59294222826425, 20.64025626226802),\n",
       " (95.94055248656625, 21.149139431986985),\n",
       " (144.8391930632404, 0.7817571575184803),\n",
       " (202.39862067664504, 13.00107172376652),\n",
       " (111.29709704637594, 6.846652076929725),\n",
       " (91.3191392569095, 18.66073014636709),\n",
       " (106.75000679535447, 13.787698745427877),\n",
       " (63.26544375820745, 10.801812996324136),\n",
       " (100.94151781632287, 18.9163965567239),\n",
       " (61.86740237052738, 18.598551733892183),\n",
       " (123.76952435276037, 1.2166218131691802),\n",
       " (100.65846888636524, 11.716027600965562),\n",
       " (117.11639485452964, 24.419686764094912),\n",
       " (139.7446503787422, 3.423811220069552),\n",
       " (116.48754935285021, 6.470083856167261),\n",
       " (83.83014203717084, 17.19799524768755),\n",
       " (90.02801376350001, 18.025480313929116),\n",
       " (164.05882367342733, 1.6359228842957485),\n",
       " (162.9525549449654, 4.3122394439564165),\n",
       " (160.5887580946298, 8.076159822568009),\n",
       " (87.25922150517133, 17.01917094643929),\n",
       " (134.6063116823776, 9.977836957972066),\n",
       " (128.5272010041179, 9.013171457279624),\n",
       " (104.1990307875871, 0.8247200674800188),\n",
       " (107.77107866918004, 19.406670256847416),\n",
       " (127.43785558559392, 3.082404739602699),\n",
       " (66.3250114006159, 26.262374450149572),\n",
       " (153.11270766972265, 9.477533599020651),\n",
       " (87.91036121877873, 19.608932748617324),\n",
       " (134.76993709316466, 6.569393994192912),\n",
       " (133.86769175428833, 8.160454825770817),\n",
       " (89.17914953760692, 19.065118534898087),\n",
       " (108.80527928806056, 2.094251320801186),\n",
       " (133.73794505569734, 7.686937065878),\n",
       " (180.36376048065742, 4.659657518104511),\n",
       " (96.75224345672588, 14.380842932072182),\n",
       " (89.65420327794315, 19.282082871848004),\n",
       " (136.32011356362608, 1.253644564872113),\n",
       " (97.71984007012678, 1.1264968924097358),\n",
       " (146.3837701472617, 7.580684131675192),\n",
       " (159.8713446486762, 0.2196723080306389),\n",
       " (141.76131154341164, 5.471352807965321),\n",
       " (144.37902580102883, 0.3775909193027503),\n",
       " (164.5743097710765, 6.7028260011717515),\n",
       " (117.6976840684695, 2.037668072312717),\n",
       " (128.84019526101218, 6.840540645201653),\n",
       " (140.32933439929573, 5.829522025180583),\n",
       " (190.28016080968405, 5.612946647176297),\n",
       " (66.47676766026837, 22.657737025691347),\n",
       " (100.7440005826654, 25.455233777223),\n",
       " (77.37521956879732, 13.2944363696005),\n",
       " (146.93163281768204, 1.6574930512728026),\n",
       " (143.93338672576135, 3.2644111950311636),\n",
       " (139.03848356962905, 5.816193569209791),\n",
       " (122.78085526436782, 13.027997293758967),\n",
       " (130.75132656149367, 16.773631664526775)]"
      ]
     },
     "execution_count": 5,
     "metadata": {},
     "output_type": "execute_result"
    }
   ],
   "source": [
    "del parameters[57]\n",
    "parameters\n"
   ]
  },
  {
   "cell_type": "code",
   "execution_count": 6,
   "metadata": {},
   "outputs": [
    {
     "data": {
      "text/plain": [
       "97"
      ]
     },
     "execution_count": 6,
     "metadata": {},
     "output_type": "execute_result"
    }
   ],
   "source": [
    "len(parameters)"
   ]
  },
  {
   "cell_type": "markdown",
   "metadata": {},
   "source": [
    "### We will now normalize the data, to avoid giving too much weightage to Greyscale, over elevation value, using min max normalization."
   ]
  },
  {
   "cell_type": "code",
   "execution_count": 7,
   "metadata": {},
   "outputs": [
    {
     "name": "stdout",
     "output_type": "stream",
     "text": [
      "216.34707236621665 38.350452645737136 60.42607237974772 0.2196723080306389\n"
     ]
    },
    {
     "data": {
      "text/plain": [
       "[(0.6723822364265516, 0.0832791298383465),\n",
       " (0.19844375176054652, 0.02424991502518143),\n",
       " (0.42792002477215835, 0.022795194922334977),\n",
       " (0.5305236783735757, 0.010480432300007364)]"
      ]
     },
     "execution_count": 7,
     "metadata": {},
     "output_type": "execute_result"
    }
   ],
   "source": [
    "a = max(parameters)[0]\n",
    "b = max(parameters, key=lambda x: x[1])[1]\n",
    "c = min(parameters)[0]\n",
    "d = min(parameters, key=lambda x: x[1])[1]\n",
    "print(a,b,c,d)\n",
    "std_params = []\n",
    "for i in range (len(parameters)):\n",
    "    x = (parameters[i][0]-c)/(a-c)\n",
    "    y = (parameters[i][1]-d)/(b-d)\n",
    "    std_params.append((x,y))\n",
    "std_params[0:4]"
   ]
  },
  {
   "cell_type": "code",
   "execution_count": 8,
   "metadata": {},
   "outputs": [
    {
     "data": {
      "text/plain": [
       "97"
      ]
     },
     "execution_count": 8,
     "metadata": {},
     "output_type": "execute_result"
    }
   ],
   "source": [
    "len(std_params)"
   ]
  },
  {
   "cell_type": "markdown",
   "metadata": {},
   "source": [
    "## KNN Classification\n",
    "\n",
    " - Although not required for predicting the similarity, KNN will tell me how well my parameters work when it comes to predicting the class of new data.\n",
    " \n",
    " - The Test set accuracy is high, indicating that the parameters chosen are valid, and reflect the class of the data accurately"
   ]
  },
  {
   "cell_type": "markdown",
   "metadata": {},
   "source": [
    "#### The labels are being read into the pandas dataframe, to be converted into a list"
   ]
  },
  {
   "cell_type": "code",
   "execution_count": 9,
   "metadata": {},
   "outputs": [],
   "source": [
    "import pandas as pd\n",
    "\n",
    "df = pd.read_csv(r'C:\\Users\\Phalgun\\Desktop\\Data_Analytics\\ground_truth.csv') # can also index sheet by name or fetch all sheets\n",
    "img_type = df['Type'].tolist()\n"
   ]
  },
  {
   "cell_type": "markdown",
   "metadata": {},
   "source": [
    "This element was deleted in the previous lists, so we must delete it here"
   ]
  },
  {
   "cell_type": "code",
   "execution_count": 10,
   "metadata": {},
   "outputs": [],
   "source": [
    "del img_type[57] # We delete this element as we have deleted it "
   ]
  },
  {
   "cell_type": "markdown",
   "metadata": {},
   "source": [
    "#### I have split the data set into a training and testing data set, with a test size of 60%.\n",
    "\n",
    "Generally I would give a test size of just 20 - 30 %, but due to the small data set size, changed it to 60 %"
   ]
  },
  {
   "cell_type": "code",
   "execution_count": 11,
   "metadata": {},
   "outputs": [
    {
     "name": "stdout",
     "output_type": "stream",
     "text": [
      "Train set: (38, 2) (38,)\n",
      "Test set: (59, 2) (59,)\n"
     ]
    }
   ],
   "source": [
    "from sklearn.model_selection import train_test_split\n",
    "X= np.asarray(std_params)\n",
    "Y = np.asarray(img_type)\n",
    "X_train, X_test, y_train, y_test = train_test_split( X,Y, test_size=0.6, random_state=4)\n",
    "print ('Train set:', X_train.shape,  y_train.shape)\n",
    "print ('Test set:', X_test.shape,  y_test.shape)"
   ]
  },
  {
   "cell_type": "markdown",
   "metadata": {},
   "source": [
    "Using the KNN classifier with a K value of 4, meaning, we search for the 4 closest neighbours. Minkowski distance is used for calculating the distance"
   ]
  },
  {
   "cell_type": "code",
   "execution_count": 12,
   "metadata": {},
   "outputs": [
    {
     "data": {
      "text/plain": [
       "array(['b', 'b', 'b', 'v', 'r'], dtype='<U1')"
      ]
     },
     "execution_count": 12,
     "metadata": {},
     "output_type": "execute_result"
    }
   ],
   "source": [
    "from sklearn.neighbors import KNeighborsClassifier\n",
    "k = 4\n",
    "#Train Model and Predict  \n",
    "neigh = KNeighborsClassifier(n_neighbors = k).fit(X_train,y_train)\n",
    "yhat = neigh.predict(X_test)\n",
    "yhat[0:5]"
   ]
  },
  {
   "cell_type": "markdown",
   "metadata": {},
   "source": [
    "The similarity is checked by the metrics function in the sklearn library"
   ]
  },
  {
   "cell_type": "code",
   "execution_count": 13,
   "metadata": {},
   "outputs": [
    {
     "name": "stdout",
     "output_type": "stream",
     "text": [
      "Train set Accuracy:  0.8947368421052632\n",
      "Test set Accuracy:  0.8813559322033898\n"
     ]
    }
   ],
   "source": [
    "from sklearn import metrics\n",
    "print(\"Train set Accuracy: \", metrics.accuracy_score(y_train, neigh.predict(X_train)))\n",
    "print(\"Test set Accuracy: \", metrics.accuracy_score(y_test, yhat))"
   ]
  },
  {
   "cell_type": "markdown",
   "metadata": {},
   "source": [
    "# Clustering\n",
    "\n",
    "I have performed a basic K-means clustering algorithm, in the case that we do not have the labelled data given to us. The number of centroids are 3, as given by the images."
   ]
  },
  {
   "cell_type": "code",
   "execution_count": 14,
   "metadata": {},
   "outputs": [
    {
     "name": "stdout",
     "output_type": "stream",
     "text": [
      "[1 0 0 0 1 0 0 1 0 1 2 1 0 1 1 1 2 1 1 0]\n"
     ]
    }
   ],
   "source": [
    "from sklearn.cluster import KMeans \n",
    "clusterNum = 3\n",
    "k_means = KMeans(init = \"k-means++\", n_clusters = clusterNum, n_init = 12)\n",
    "k_means.fit(std_params)\n",
    "labels = k_means.labels_\n",
    "print(labels[0:20])"
   ]
  },
  {
   "cell_type": "markdown",
   "metadata": {},
   "source": [
    "### Finding Intracluster distance and Intercluster distance for the clusters found here"
   ]
  },
  {
   "cell_type": "markdown",
   "metadata": {},
   "source": [
    "Here I have attached the predicted cluster with the adjacent parameters, ie. greyscale and elevation"
   ]
  },
  {
   "cell_type": "code",
   "execution_count": 15,
   "metadata": {},
   "outputs": [
    {
     "data": {
      "text/plain": [
       "96"
      ]
     },
     "execution_count": 15,
     "metadata": {},
     "output_type": "execute_result"
    }
   ],
   "source": [
    "predicted_cluster_list=[]\n",
    "for i in range ((len(labels)-1)):\n",
    "    z=labels[i]\n",
    "    x=std_params[i][0]\n",
    "    y=std_params[i][1]\n",
    "    predicted_cluster_list.append((x,y,z))\n",
    "predicted_cluster_list[0:5]          \n",
    "len(predicted_cluster_list)"
   ]
  },
  {
   "cell_type": "markdown",
   "metadata": {},
   "source": [
    "### Finding the new centroids by average of location"
   ]
  },
  {
   "cell_type": "code",
   "execution_count": 16,
   "metadata": {},
   "outputs": [
    {
     "name": "stdout",
     "output_type": "stream",
     "text": [
      "[0.7765599377925657, 0.09323812109678128] [0.7697699125559624, 0.22990984103932674] [0.1848670810716692, 0.5063404875042757]\n"
     ]
    }
   ],
   "source": [
    "gs_total0 = 0\n",
    "e_total0 = 0\n",
    "gs_total1 = 0\n",
    "e_total1= 0\n",
    "gs_total2 = 0\n",
    "e_total2= 0\n",
    "count0=0\n",
    "count1=0\n",
    "count2=0\n",
    "for i in range (len(predicted_cluster_list)-1):\n",
    "    if (predicted_cluster_list[i][2]==0):\n",
    "        x0 = predicted_cluster_list[i][0]\n",
    "        y0= predicted_cluster_list [i][1]\n",
    "        gs_total0 = gs_total0 + x0\n",
    "        e_total0 = e_total0 + y0\n",
    "        count0 = count0 + 1\n",
    "    if (predicted_cluster_list[i][2]==1):\n",
    "        x1 = predicted_cluster_list[i][0]\n",
    "        y1 = predicted_cluster_list [i][1]\n",
    "        gs_total1 = gs_total1 + x1\n",
    "        e_total1 = e_total1 + y1\n",
    "        count1 = count1 + 1\n",
    "    if (predicted_cluster_list[i][2]==2):\n",
    "        x2 = predicted_cluster_list[i][0]\n",
    "        y2 = predicted_cluster_list [i][1]\n",
    "        gs_total2 = gs_total2 + x2\n",
    "        e_total2 = e_total2 + y2\n",
    "        count2 = count2 + 1\n",
    "centroid1 = [gs_total1/count1,e_total1/count1]\n",
    "centroid0 = [gs_total0/count1,e_total0/count0]\n",
    "centroid2 = [gs_total2/count2,e_total2/count2]\n",
    "print(centroid0,centroid1,centroid2)\n",
    "        "
   ]
  },
  {
   "cell_type": "markdown",
   "metadata": {},
   "source": [
    "### Finding the intracluster euclidean distances"
   ]
  },
  {
   "cell_type": "code",
   "execution_count": 17,
   "metadata": {},
   "outputs": [
    {
     "name": "stdout",
     "output_type": "stream",
     "text": [
      "0.18455438845465907 0.10151164606636622 0.07274767229814959\n"
     ]
    }
   ],
   "source": [
    "ed0=0\n",
    "ed1=0\n",
    "ed2=0\n",
    "for i in range (len(predicted_cluster_list)-1):\n",
    "    if (predicted_cluster_list[i][2]==0):\n",
    "        x0 = predicted_cluster_list[i][0]\n",
    "        y0= predicted_cluster_list [i][1]\n",
    "        z0= centroid0[0]\n",
    "        c0= centroid0[1]\n",
    "        ed = ((x0-z0)**2 + (y0-c0)**2)**.5\n",
    "        ed0 = ed0 + ed\n",
    "        count0 = count0 + 1\n",
    "    if (predicted_cluster_list[i][2]==1):\n",
    "        x1 = predicted_cluster_list[i][0]\n",
    "        y1 = predicted_cluster_list [i][1]\n",
    "        z1= centroid1[0]\n",
    "        c1= centroid1[1]\n",
    "        ed = ((x1-z1)**2 + (y1-c1)**2)**.5\n",
    "        ed1 = ed1 + ed\n",
    "        count1 = count1 + 1\n",
    "    if (predicted_cluster_list[i][2]==2):\n",
    "        x2 = predicted_cluster_list[i][0]\n",
    "        y2 = predicted_cluster_list [i][1]\n",
    "        z2= centroid2[0]\n",
    "        c2= centroid2[1]\n",
    "        ed = ((x2-z2)**2 + (y2-c2)**2)**.5\n",
    "        ed2 = ed2 + ed\n",
    "        count2 = count2 + 1\n",
    "euclid_dist0=ed0/count0\n",
    "euclid_dist1=ed1/count1\n",
    "euclid_dist2=ed2/count2\n",
    "print(euclid_dist0,euclid_dist1,euclid_dist2)"
   ]
  },
  {
   "cell_type": "markdown",
   "metadata": {},
   "source": [
    "### Finding the intercluster euclidean distances"
   ]
  },
  {
   "cell_type": "code",
   "execution_count": 18,
   "metadata": {},
   "outputs": [
    {
     "name": "stdout",
     "output_type": "stream",
     "text": [
      "0.13684028454650074 0.6469352553257344 0.7216328719134179\n"
     ]
    }
   ],
   "source": [
    "c0toc1 = ((centroid0[0]-centroid1[0])**2 + (centroid0[1]-centroid1[1])**2)**0.5\n",
    "c0toc2 = ((centroid0[0]-centroid2[0])**2 + (centroid0[1]-centroid2[1])**2)**0.5\n",
    "c1toc2 = ((centroid1[0]-centroid2[0])**2 + (centroid1[1]-centroid2[1])**2)**0.5\n",
    "\n",
    "print(c0toc1,c1toc2,c0toc2)"
   ]
  },
  {
   "cell_type": "markdown",
   "metadata": {},
   "source": [
    "### The effectiveness of the model\n",
    "\n",
    "- Effectiveness is given by (compactness) / (separation)"
   ]
  },
  {
   "cell_type": "code",
   "execution_count": 19,
   "metadata": {},
   "outputs": [
    {
     "data": {
      "text/plain": [
       "0.7616502578236792"
      ]
     },
     "execution_count": 19,
     "metadata": {},
     "output_type": "execute_result"
    }
   ],
   "source": [
    "effectiveness=1-(euclid_dist0+euclid_dist1+euclid_dist2)/(c0toc1+c1toc2+c0toc2)\n",
    "effectiveness"
   ]
  },
  {
   "cell_type": "markdown",
   "metadata": {},
   "source": [
    "Clearly, we can see that the similarity i.e. the euclidean distance, is much higher within the cluster, as compared to the distance between clusters."
   ]
  },
  {
   "cell_type": "markdown",
   "metadata": {},
   "source": [
    "# Similarity calculation"
   ]
  },
  {
   "cell_type": "markdown",
   "metadata": {},
   "source": [
    "### Similarity of the K-means clustering algorithm\n",
    "\n",
    "Here I have found the euclidean distance between any 2 images. By entering which 2 images to compare, the distances between is calculated. \n",
    "\n",
    "- Distance = Euclidean distance\n",
    "- Similarity = 1 - distance\n",
    "- The classes of the image are shown below, as you can see, the images of same class have better similarity"
   ]
  },
  {
   "cell_type": "code",
   "execution_count": 20,
   "metadata": {},
   "outputs": [
    {
     "name": "stdout",
     "output_type": "stream",
     "text": [
      "Which 2 images do you want to check ? (Enter a value b/w 1-98, separated by space)2 56\n",
      "We will check similarity between 2 and 56\n",
      "Image 2 has properties (0.19844375176054652, 0.02424991502518143, 0) and belongs to class 0\n",
      "Image 56 has properties (0.3595505222386182, 0.16392036808005628, 0) and belongs to class 0\n",
      "The similarity between these images is 0.7867789247038931\n"
     ]
    }
   ],
   "source": [
    "pic1,pic2 = input(\"Which 2 images do you want to check ? (Enter a value b/w 1-98, separated by space)\").split()\n",
    "print(\"We will check similarity between\", pic1, \"and\", pic2)\n",
    "\n",
    "pic1 = int(pic1) - 1\n",
    "pic2 = int(pic2) -1\n",
    "cluster_dist = ((predicted_cluster_list[pic1][0]-predicted_cluster_list[pic2][0])**2 + (predicted_cluster_list[pic1][1]-predicted_cluster_list[pic2][1])**2)**0.5\n",
    "cluster_sim = 1- cluster_dist\n",
    "print( \"Image\",pic1+1,\"has properties\",predicted_cluster_list[pic1],\"and belongs to class\",predicted_cluster_list[pic1][2])\n",
    "print(\"Image\",pic2+1,\"has properties\",predicted_cluster_list[pic2],\"and belongs to class\",predicted_cluster_list[pic2][2])\n",
    "print(\"The similarity between these images is\",cluster_sim)"
   ]
  },
  {
   "cell_type": "markdown",
   "metadata": {},
   "source": [
    "## Accuracy of the clustering model in comparison of the actual model\n",
    "\n",
    "- This was calculated by comparing the actual values of every image to the predicted value\n",
    "- Accuracy = Correct_prediction / Total_records"
   ]
  },
  {
   "cell_type": "code",
   "execution_count": 21,
   "metadata": {},
   "outputs": [],
   "source": [
    "n_labels=[]\n",
    "for i in range (len(img_type)-1):\n",
    "    x = img_type[i]\n",
    "    if (x == 'v'):\n",
    "        y = labels[10]\n",
    "    if (x == 'r'):\n",
    "        y = labels[1]\n",
    "    if (x=='b'):\n",
    "        y= labels[0]\n",
    "    n_labels.append(y)"
   ]
  },
  {
   "cell_type": "code",
   "execution_count": 22,
   "metadata": {},
   "outputs": [
    {
     "name": "stdout",
     "output_type": "stream",
     "text": [
      "Accuracy of the k-means algorithm is 0.7628865979381443\n"
     ]
    }
   ],
   "source": [
    "correct = 0\n",
    "for i in range (len(labels)-1):\n",
    "    if (labels[i]==n_labels[i]):\n",
    "        correct = correct + 1\n",
    "accuracy = correct/(len(labels))\n",
    "print (\"Accuracy of the k-means algorithm is\",accuracy)"
   ]
  },
  {
   "cell_type": "markdown",
   "metadata": {},
   "source": [
    "### Algo Similarity\n",
    "This is the similarity based on the greyscale and Elevation properties allocated to each image, in comparison to the actual labels of each image.\n",
    "\n",
    "- A list was made comprising of the parameters I assigned to the image, and their corresponding actual labels\n",
    "- You can check the similarity of 2 images, and notice the classes they are a part of too"
   ]
  },
  {
   "cell_type": "code",
   "execution_count": 24,
   "metadata": {},
   "outputs": [
    {
     "name": "stdout",
     "output_type": "stream",
     "text": [
      "Which 2 images do you want to check ? (Enter a value b/w 1-98, separated by space)2 65\n",
      "We will check similarity between 2 and 65\n",
      "Image 2 has properties (0.19844375176054652, 0.02424991502518143, 'r') and belongs to class r\n",
      "Image 65 has properties (0.280738055884955, 0.015867699378055072, 'r') and belongs to class r\n",
      "The similarity between these images is 0.9172799055218409\n"
     ]
    }
   ],
   "source": [
    "pic1,pic2 = input(\"Which 2 images do you want to check ? (Enter a value b/w 1-98, separated by space)\").split()\n",
    "print(\"We will check similarity between\", pic1, \"and\", pic2)\n",
    "\n",
    "pic1 = int(pic1) - 1\n",
    "pic2 = int(pic2) -1\n",
    "masterlist=[]\n",
    "for i in range ((len(std_params)-1)):\n",
    "    z=img_type[i]\n",
    "    x=std_params[i][0]\n",
    "    y=std_params[i][1]\n",
    "    masterlist.append((x,y,z))\n",
    "euclid_dist = ((masterlist[pic1][0]-masterlist[pic2][0])**2 + (masterlist[pic1][1]-masterlist[pic2][1])**2)**0.5\n",
    "similarity = 1- euclid_dist\n",
    "print( \"Image\",pic1+1,\"has properties\",masterlist[pic1],\"and belongs to class\",masterlist[pic1][2])\n",
    "print(\"Image\",pic2+1,\"has properties\",masterlist[pic2],\"and belongs to class\",masterlist[pic2][2])\n",
    "print(\"The similarity between these images is\",similarity)"
   ]
  },
  {
   "cell_type": "code",
   "execution_count": null,
   "metadata": {},
   "outputs": [],
   "source": []
  }
 ],
 "metadata": {
  "kernelspec": {
   "display_name": "Python 3",
   "language": "python",
   "name": "python3"
  },
  "language_info": {
   "codemirror_mode": {
    "name": "ipython",
    "version": 3
   },
   "file_extension": ".py",
   "mimetype": "text/x-python",
   "name": "python",
   "nbconvert_exporter": "python",
   "pygments_lexer": "ipython3",
   "version": "3.7.0"
  }
 },
 "nbformat": 4,
 "nbformat_minor": 2
}
